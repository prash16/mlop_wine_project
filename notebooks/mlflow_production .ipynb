{
 "cells": [
  {
   "cell_type": "code",
   "execution_count": 1,
   "id": "supreme-court",
   "metadata": {},
   "outputs": [
    {
     "data": {
      "text/plain": [
       "'C:\\\\Users\\\\prasham\\\\Learning\\\\mlop_wine_project\\\\notebooks'"
      ]
     },
     "execution_count": 1,
     "metadata": {},
     "output_type": "execute_result"
    }
   ],
   "source": [
    "pwd"
   ]
  },
  {
   "cell_type": "code",
   "execution_count": 5,
   "id": "canadian-bottle",
   "metadata": {},
   "outputs": [
    {
     "ename": "ModuleNotFoundError",
     "evalue": "No module named 'mlflow'",
     "output_type": "error",
     "traceback": [
      "\u001b[1;31m---------------------------------------------------------------------------\u001b[0m",
      "\u001b[1;31mModuleNotFoundError\u001b[0m                       Traceback (most recent call last)",
      "\u001b[1;32m<ipython-input-5-6485df56f13b>\u001b[0m in \u001b[0;36m<module>\u001b[1;34m\u001b[0m\n\u001b[1;32m----> 1\u001b[1;33m \u001b[1;32mimport\u001b[0m \u001b[0mmlflow\u001b[0m\u001b[1;33m\u001b[0m\u001b[1;33m\u001b[0m\u001b[0m\n\u001b[0m",
      "\u001b[1;31mModuleNotFoundError\u001b[0m: No module named 'mlflow'"
     ]
    }
   ],
   "source": [
    "import mlflow\n"
   ]
  },
  {
   "cell_type": "code",
   "execution_count": 4,
   "id": "sorted-discretion",
   "metadata": {},
   "outputs": [
    {
     "name": "stdout",
     "output_type": "stream",
     "text": [
      "Requirement already satisfied: mlflow in c:\\users\\prasham\\miniconda3\\envs\\mlop_wine_project\\lib\\site-packages (1.14.1)\n",
      "Requirement already satisfied: numpy in c:\\users\\prasham\\miniconda3\\envs\\mlop_wine_project\\lib\\site-packages (from mlflow) (1.20.1)\n",
      "Requirement already satisfied: pytz in c:\\users\\prasham\\miniconda3\\envs\\mlop_wine_project\\lib\\site-packages (from mlflow) (2021.1)\n",
      "Requirement already satisfied: requests>=2.17.3 in c:\\users\\prasham\\miniconda3\\envs\\mlop_wine_project\\lib\\site-packages (from mlflow) (2.25.1)\n",
      "Requirement already satisfied: sqlalchemy in c:\\users\\prasham\\miniconda3\\envs\\mlop_wine_project\\lib\\site-packages (from mlflow) (1.4.2)\n",
      "Requirement already satisfied: querystring-parser in c:\\users\\prasham\\miniconda3\\envs\\mlop_wine_project\\lib\\site-packages (from mlflow) (1.2.4)\n",
      "Requirement already satisfied: alembic<=1.4.1 in c:\\users\\prasham\\miniconda3\\envs\\mlop_wine_project\\lib\\site-packages (from mlflow) (1.4.1)\n",
      "Requirement already satisfied: pyyaml in c:\\users\\prasham\\miniconda3\\envs\\mlop_wine_project\\lib\\site-packages (from mlflow) (5.4.1)\n",
      "Requirement already satisfied: docker>=4.0.0 in c:\\users\\prasham\\miniconda3\\envs\\mlop_wine_project\\lib\\site-packages (from mlflow) (4.4.4)\n",
      "Requirement already satisfied: cloudpickle in c:\\users\\prasham\\miniconda3\\envs\\mlop_wine_project\\lib\\site-packages (from mlflow) (1.6.0)\n",
      "Requirement already satisfied: protobuf>=3.6.0 in c:\\users\\prasham\\miniconda3\\envs\\mlop_wine_project\\lib\\site-packages (from mlflow) (3.15.6)\n",
      "Requirement already satisfied: sqlparse>=0.3.1 in c:\\users\\prasham\\miniconda3\\envs\\mlop_wine_project\\lib\\site-packages (from mlflow) (0.4.1)\n",
      "Requirement already satisfied: prometheus-flask-exporter in c:\\users\\prasham\\miniconda3\\envs\\mlop_wine_project\\lib\\site-packages (from mlflow) (0.18.1)\n",
      "Requirement already satisfied: entrypoints in c:\\users\\prasham\\miniconda3\\envs\\mlop_wine_project\\lib\\site-packages (from mlflow) (0.3)\n",
      "Requirement already satisfied: click>=7.0 in c:\\users\\prasham\\miniconda3\\envs\\mlop_wine_project\\lib\\site-packages (from mlflow) (7.1.2)\n",
      "Requirement already satisfied: Flask in c:\\users\\prasham\\miniconda3\\envs\\mlop_wine_project\\lib\\site-packages (from mlflow) (1.1.2)\n",
      "Requirement already satisfied: waitress in c:\\users\\prasham\\miniconda3\\envs\\mlop_wine_project\\lib\\site-packages (from mlflow) (2.0.0)\n",
      "Requirement already satisfied: pandas in c:\\users\\prasham\\miniconda3\\envs\\mlop_wine_project\\lib\\site-packages (from mlflow) (1.2.3)\n",
      "Requirement already satisfied: gitpython>=2.1.0 in c:\\users\\prasham\\miniconda3\\envs\\mlop_wine_project\\lib\\site-packages (from mlflow) (3.1.14)\n",
      "Requirement already satisfied: databricks-cli>=0.8.7 in c:\\users\\prasham\\miniconda3\\envs\\mlop_wine_project\\lib\\site-packages (from mlflow) (0.14.3)\n",
      "Requirement already satisfied: python-dateutil in c:\\users\\prasham\\miniconda3\\envs\\mlop_wine_project\\lib\\site-packages (from alembic<=1.4.1->mlflow) (2.8.1)\n",
      "Requirement already satisfied: python-editor>=0.3 in c:\\users\\prasham\\miniconda3\\envs\\mlop_wine_project\\lib\\site-packages (from alembic<=1.4.1->mlflow) (1.0.4)\n",
      "Requirement already satisfied: Mako in c:\\users\\prasham\\miniconda3\\envs\\mlop_wine_project\\lib\\site-packages (from alembic<=1.4.1->mlflow) (1.1.4)\n",
      "Requirement already satisfied: tabulate>=0.7.7 in c:\\users\\prasham\\miniconda3\\envs\\mlop_wine_project\\lib\\site-packages (from databricks-cli>=0.8.7->mlflow) (0.8.9)\n",
      "Requirement already satisfied: six>=1.10.0 in c:\\users\\prasham\\miniconda3\\envs\\mlop_wine_project\\lib\\site-packages (from databricks-cli>=0.8.7->mlflow) (1.15.0)\n",
      "Requirement already satisfied: websocket-client>=0.32.0 in c:\\users\\prasham\\miniconda3\\envs\\mlop_wine_project\\lib\\site-packages (from docker>=4.0.0->mlflow) (0.58.0)\n",
      "Requirement already satisfied: pywin32==227 in c:\\users\\prasham\\miniconda3\\envs\\mlop_wine_project\\lib\\site-packages (from docker>=4.0.0->mlflow) (227)\n",
      "Requirement already satisfied: gitdb<5,>=4.0.1 in c:\\users\\prasham\\miniconda3\\envs\\mlop_wine_project\\lib\\site-packages (from gitpython>=2.1.0->mlflow) (4.0.5)\n",
      "Requirement already satisfied: smmap<4,>=3.0.1 in c:\\users\\prasham\\miniconda3\\envs\\mlop_wine_project\\lib\\site-packages (from gitdb<5,>=4.0.1->gitpython>=2.1.0->mlflow) (3.0.5)\n",
      "Requirement already satisfied: certifi>=2017.4.17 in c:\\users\\prasham\\miniconda3\\envs\\mlop_wine_project\\lib\\site-packages (from requests>=2.17.3->mlflow) (2020.12.5)\n",
      "Requirement already satisfied: chardet<5,>=3.0.2 in c:\\users\\prasham\\miniconda3\\envs\\mlop_wine_project\\lib\\site-packages (from requests>=2.17.3->mlflow) (4.0.0)\n",
      "Requirement already satisfied: idna<3,>=2.5 in c:\\users\\prasham\\miniconda3\\envs\\mlop_wine_project\\lib\\site-packages (from requests>=2.17.3->mlflow) (2.10)\n",
      "Requirement already satisfied: urllib3<1.27,>=1.21.1 in c:\\users\\prasham\\miniconda3\\envs\\mlop_wine_project\\lib\\site-packages (from requests>=2.17.3->mlflow) (1.26.4)\n",
      "Requirement already satisfied: greenlet!=0.4.17 in c:\\users\\prasham\\miniconda3\\envs\\mlop_wine_project\\lib\\site-packages (from sqlalchemy->mlflow) (1.0.0)\n",
      "Requirement already satisfied: itsdangerous>=0.24 in c:\\users\\prasham\\miniconda3\\envs\\mlop_wine_project\\lib\\site-packages (from Flask->mlflow) (1.1.0)\n",
      "Requirement already satisfied: Werkzeug>=0.15 in c:\\users\\prasham\\miniconda3\\envs\\mlop_wine_project\\lib\\site-packages (from Flask->mlflow) (1.0.1)\n",
      "Requirement already satisfied: Jinja2>=2.10.1 in c:\\users\\prasham\\miniconda3\\envs\\mlop_wine_project\\lib\\site-packages (from Flask->mlflow) (2.11.3)\n",
      "Requirement already satisfied: MarkupSafe>=0.23 in c:\\users\\prasham\\miniconda3\\envs\\mlop_wine_project\\lib\\site-packages (from Jinja2>=2.10.1->Flask->mlflow) (1.1.1)\n",
      "Requirement already satisfied: prometheus-client in c:\\users\\prasham\\miniconda3\\envs\\mlop_wine_project\\lib\\site-packages (from prometheus-flask-exporter->mlflow) (0.9.0)\n"
     ]
    }
   ],
   "source": [
    "!pip install mlflow"
   ]
  },
  {
   "cell_type": "code",
   "execution_count": 6,
   "id": "healthy-projector",
   "metadata": {},
   "outputs": [
    {
     "ename": "ModuleNotFoundError",
     "evalue": "No module named 'mlflow'",
     "output_type": "error",
     "traceback": [
      "\u001b[1;31m---------------------------------------------------------------------------\u001b[0m",
      "\u001b[1;31mModuleNotFoundError\u001b[0m                       Traceback (most recent call last)",
      "\u001b[1;32m<ipython-input-6-84cb3420c57c>\u001b[0m in \u001b[0;36m<module>\u001b[1;34m\u001b[0m\n\u001b[0;32m      2\u001b[0m \u001b[1;32mimport\u001b[0m \u001b[0msys\u001b[0m\u001b[1;33m\u001b[0m\u001b[1;33m\u001b[0m\u001b[0m\n\u001b[0;32m      3\u001b[0m \u001b[1;32mimport\u001b[0m \u001b[0margparse\u001b[0m\u001b[1;33m\u001b[0m\u001b[1;33m\u001b[0m\u001b[0m\n\u001b[1;32m----> 4\u001b[1;33m \u001b[1;32mimport\u001b[0m \u001b[0mmlflow\u001b[0m\u001b[1;33m\u001b[0m\u001b[1;33m\u001b[0m\u001b[0m\n\u001b[0m\u001b[0;32m      5\u001b[0m \u001b[1;32mfrom\u001b[0m \u001b[0mmlflow\u001b[0m\u001b[1;33m.\u001b[0m\u001b[0mtracking\u001b[0m \u001b[1;32mimport\u001b[0m \u001b[0mMlflowClient\u001b[0m\u001b[1;33m\u001b[0m\u001b[1;33m\u001b[0m\u001b[0m\n\u001b[0;32m      6\u001b[0m \u001b[1;32mfrom\u001b[0m \u001b[0mpprint\u001b[0m \u001b[1;32mimport\u001b[0m \u001b[0mpprint\u001b[0m\u001b[1;33m\u001b[0m\u001b[1;33m\u001b[0m\u001b[0m\n",
      "\u001b[1;31mModuleNotFoundError\u001b[0m: No module named 'mlflow'"
     ]
    }
   ],
   "source": [
    "#from src.get_data import read_params\n",
    "import sys \n",
    "import argparse\n",
    "import mlflow\n",
    "from mlflow.tracking import MlflowClient\n",
    "from pprint import pprint\n",
    "import joblib\n",
    "import os\n",
    "\n",
    "sys.path.insert(1, 'C:\\\\Users\\\\prasham\\\\Learning\\\\mlop_wine_project')\n",
    "\n",
    "from get_data import *\n",
    "\n",
    "os.chdir(\"C:\\\\Users\\\\prasham\\\\Learning\\\\mlop_wine_project\\\\notebooks\")\n",
    "\n",
    "\n",
    "def log_production_model(config_path):\n",
    "    config = read_params(config_path)\n",
    "    \n",
    "\n",
    "    mlflow_config = config[\"mlflow_config\"] \n",
    "    \n",
    "\n",
    "    model_name = mlflow_config[\"registered_model_name\"]\n",
    "\n",
    "\n",
    "    remote_server_uri = mlflow_config[\"remote_server_uri\"]\n",
    "\n",
    "    mlflow.set_tracking_uri(remote_server_uri)\n",
    "    \n",
    "    runs = mlflow.search_runs(experiment_ids=1)\n",
    "    lowest = runs[\"metrics.mae\"].sort_values(ascending=True)[0]\n",
    "    lowest_run_id = runs[runs[\"metrics.mae\"] == lowest][\"run_id\"][0]\n",
    "    \n",
    "\n",
    "    client = MlflowClient()\n",
    "    for mv in client.search_model_versions(f\"name='{model_name}'\"):\n",
    "        mv = dict(mv)\n",
    "        \n",
    "        if mv[\"run_id\"] == lowest_run_id:\n",
    "            current_version = mv[\"version\"]\n",
    "            logged_model = mv[\"source\"]\n",
    "            pprint(mv, indent=4)\n",
    "            client.transition_model_version_stage(\n",
    "                name=model_name,\n",
    "                version=current_version,\n",
    "                stage=\"Production\"\n",
    "            )\n",
    "        else:\n",
    "            current_version = mv[\"version\"]\n",
    "            client.transition_model_version_stage(\n",
    "                name=model_name,\n",
    "                version=current_version,\n",
    "                stage=\"Staging\"\n",
    "            )        \n",
    "\n",
    "\n",
    "    loaded_model = mlflow.pyfunc.load_model(logged_model)\n",
    "    \n",
    "    model_path = config[\"webapp_model_dir\"] #\"prediction_service/model\"\n",
    "\n",
    "    joblib.dump(loaded_model, model_path)\n",
    "\n",
    "if __name__ == '__main__':\n",
    "    args = argparse.ArgumentParser()\n",
    "    args.add_argument(\"--config\", default=\"params.yaml\")\n",
    "    parsed_args = args.parse_args()\n",
    "    data = log_production_model(config_path=parsed_args.config)\n",
    "    \n",
    "    \n",
    "log_production_model(\"../params.yaml\")"
   ]
  },
  {
   "cell_type": "code",
   "execution_count": null,
   "id": "employed-phrase",
   "metadata": {},
   "outputs": [],
   "source": [
    "mlflow --version "
   ]
  },
  {
   "cell_type": "code",
   "execution_count": null,
   "id": "billion-girlfriend",
   "metadata": {},
   "outputs": [],
   "source": []
  }
 ],
 "metadata": {
  "kernelspec": {
   "display_name": "Python 3",
   "language": "python",
   "name": "python3"
  },
  "language_info": {
   "codemirror_mode": {
    "name": "ipython",
    "version": 3
   },
   "file_extension": ".py",
   "mimetype": "text/x-python",
   "name": "python",
   "nbconvert_exporter": "python",
   "pygments_lexer": "ipython3",
   "version": "3.8.5"
  }
 },
 "nbformat": 4,
 "nbformat_minor": 5
}
